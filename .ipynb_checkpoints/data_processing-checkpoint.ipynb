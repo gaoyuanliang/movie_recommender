{
 "cells": [
  {
   "cell_type": "markdown",
   "id": "a4e5cc96",
   "metadata": {},
   "source": [
    "https://github.com/microsoft/recommenders/blob/main/examples/00_quick_start/als_movielens.ipynb"
   ]
  },
  {
   "cell_type": "code",
   "execution_count": null,
   "id": "924dade0",
   "metadata": {},
   "outputs": [],
   "source": [
    "!pip install pyspark==3.4.0"
   ]
  },
  {
   "cell_type": "code",
   "execution_count": null,
   "id": "6d526c30",
   "metadata": {},
   "outputs": [],
   "source": [
    "!pip install recommenders==1.1.1"
   ]
  },
  {
   "cell_type": "code",
   "execution_count": null,
   "id": "b3d33ebc",
   "metadata": {},
   "outputs": [],
   "source": [
    "!pip install pysqldf"
   ]
  },
  {
   "cell_type": "markdown",
   "id": "e6e97ebd",
   "metadata": {},
   "source": [
    "# path"
   ]
  },
  {
   "cell_type": "code",
   "execution_count": 63,
   "id": "3ebb3585",
   "metadata": {},
   "outputs": [],
   "source": [
    "%run ./path.ipynb"
   ]
  },
  {
   "cell_type": "markdown",
   "id": "13c8a580",
   "metadata": {},
   "source": [
    "# packages"
   ]
  },
  {
   "cell_type": "code",
   "execution_count": 65,
   "id": "02f57d70",
   "metadata": {},
   "outputs": [],
   "source": [
    "%run ./setting.ipynb"
   ]
  },
  {
   "cell_type": "markdown",
   "id": "f7695947",
   "metadata": {},
   "source": [
    "# load data"
   ]
  },
  {
   "cell_type": "code",
   "execution_count": 45,
   "id": "a2a6f309",
   "metadata": {},
   "outputs": [],
   "source": [
    "ratings = pd.read_csv(\n",
    "    \"https://raw.githubusercontent.com/khanhnamle1994/movielens/master/ratings.csv\",\n",
    "    delimiter = '\\t',\n",
    "    )\n",
    "\n",
    "ratings['timestamp'] = pd.to_datetime(\n",
    "    ratings['timestamp'],\n",
    "    unit='s',\n",
    "    )\n",
    "\n",
    "ratings['timestamp'] = ratings['timestamp'].astype('str')"
   ]
  },
  {
   "cell_type": "code",
   "execution_count": 50,
   "id": "4722df47",
   "metadata": {},
   "outputs": [],
   "source": [
    "ratings_date = sql(f\"\"\"\n",
    "select *, \n",
    "substr(timestamp, 1, 9) as date\n",
    "from ratings\n",
    "\"\"\")"
   ]
  },
  {
   "cell_type": "code",
   "execution_count": 55,
   "id": "253a3853",
   "metadata": {},
   "outputs": [
    {
     "data": {
      "text/html": [
       "<div>\n",
       "<style scoped>\n",
       "    .dataframe tbody tr th:only-of-type {\n",
       "        vertical-align: middle;\n",
       "    }\n",
       "\n",
       "    .dataframe tbody tr th {\n",
       "        vertical-align: top;\n",
       "    }\n",
       "\n",
       "    .dataframe thead th {\n",
       "        text-align: right;\n",
       "    }\n",
       "</style>\n",
       "<table border=\"1\" class=\"dataframe\">\n",
       "  <thead>\n",
       "    <tr style=\"text-align: right;\">\n",
       "      <th></th>\n",
       "      <th>Unnamed: 0</th>\n",
       "      <th>user_id</th>\n",
       "      <th>movie_id</th>\n",
       "      <th>rating</th>\n",
       "      <th>timestamp</th>\n",
       "      <th>user_emb_id</th>\n",
       "      <th>movie_emb_id</th>\n",
       "      <th>date</th>\n",
       "    </tr>\n",
       "  </thead>\n",
       "  <tbody>\n",
       "    <tr>\n",
       "      <th>0</th>\n",
       "      <td>0</td>\n",
       "      <td>1</td>\n",
       "      <td>1193</td>\n",
       "      <td>5</td>\n",
       "      <td>2000-12-31 22:12:40</td>\n",
       "      <td>0</td>\n",
       "      <td>1192</td>\n",
       "      <td>2000-12-3</td>\n",
       "    </tr>\n",
       "    <tr>\n",
       "      <th>1</th>\n",
       "      <td>1</td>\n",
       "      <td>1</td>\n",
       "      <td>661</td>\n",
       "      <td>3</td>\n",
       "      <td>2000-12-31 22:35:09</td>\n",
       "      <td>0</td>\n",
       "      <td>660</td>\n",
       "      <td>2000-12-3</td>\n",
       "    </tr>\n",
       "    <tr>\n",
       "      <th>2</th>\n",
       "      <td>2</td>\n",
       "      <td>1</td>\n",
       "      <td>914</td>\n",
       "      <td>3</td>\n",
       "      <td>2000-12-31 22:32:48</td>\n",
       "      <td>0</td>\n",
       "      <td>913</td>\n",
       "      <td>2000-12-3</td>\n",
       "    </tr>\n",
       "    <tr>\n",
       "      <th>3</th>\n",
       "      <td>3</td>\n",
       "      <td>1</td>\n",
       "      <td>3408</td>\n",
       "      <td>4</td>\n",
       "      <td>2000-12-31 22:04:35</td>\n",
       "      <td>0</td>\n",
       "      <td>3407</td>\n",
       "      <td>2000-12-3</td>\n",
       "    </tr>\n",
       "    <tr>\n",
       "      <th>4</th>\n",
       "      <td>4</td>\n",
       "      <td>1</td>\n",
       "      <td>2355</td>\n",
       "      <td>5</td>\n",
       "      <td>2001-01-06 23:38:11</td>\n",
       "      <td>0</td>\n",
       "      <td>2354</td>\n",
       "      <td>2001-01-0</td>\n",
       "    </tr>\n",
       "    <tr>\n",
       "      <th>5</th>\n",
       "      <td>5</td>\n",
       "      <td>1</td>\n",
       "      <td>1197</td>\n",
       "      <td>3</td>\n",
       "      <td>2000-12-31 22:37:48</td>\n",
       "      <td>0</td>\n",
       "      <td>1196</td>\n",
       "      <td>2000-12-3</td>\n",
       "    </tr>\n",
       "    <tr>\n",
       "      <th>6</th>\n",
       "      <td>6</td>\n",
       "      <td>1</td>\n",
       "      <td>1287</td>\n",
       "      <td>5</td>\n",
       "      <td>2000-12-31 22:33:59</td>\n",
       "      <td>0</td>\n",
       "      <td>1286</td>\n",
       "      <td>2000-12-3</td>\n",
       "    </tr>\n",
       "    <tr>\n",
       "      <th>7</th>\n",
       "      <td>7</td>\n",
       "      <td>1</td>\n",
       "      <td>2804</td>\n",
       "      <td>5</td>\n",
       "      <td>2000-12-31 22:11:59</td>\n",
       "      <td>0</td>\n",
       "      <td>2803</td>\n",
       "      <td>2000-12-3</td>\n",
       "    </tr>\n",
       "    <tr>\n",
       "      <th>8</th>\n",
       "      <td>8</td>\n",
       "      <td>1</td>\n",
       "      <td>594</td>\n",
       "      <td>4</td>\n",
       "      <td>2000-12-31 22:37:48</td>\n",
       "      <td>0</td>\n",
       "      <td>593</td>\n",
       "      <td>2000-12-3</td>\n",
       "    </tr>\n",
       "    <tr>\n",
       "      <th>9</th>\n",
       "      <td>9</td>\n",
       "      <td>1</td>\n",
       "      <td>919</td>\n",
       "      <td>4</td>\n",
       "      <td>2000-12-31 22:22:48</td>\n",
       "      <td>0</td>\n",
       "      <td>918</td>\n",
       "      <td>2000-12-3</td>\n",
       "    </tr>\n",
       "  </tbody>\n",
       "</table>\n",
       "</div>"
      ],
      "text/plain": [
       "   Unnamed: 0  user_id  movie_id  rating            timestamp  user_emb_id  \\\n",
       "0           0        1      1193       5  2000-12-31 22:12:40            0   \n",
       "1           1        1       661       3  2000-12-31 22:35:09            0   \n",
       "2           2        1       914       3  2000-12-31 22:32:48            0   \n",
       "3           3        1      3408       4  2000-12-31 22:04:35            0   \n",
       "4           4        1      2355       5  2001-01-06 23:38:11            0   \n",
       "5           5        1      1197       3  2000-12-31 22:37:48            0   \n",
       "6           6        1      1287       5  2000-12-31 22:33:59            0   \n",
       "7           7        1      2804       5  2000-12-31 22:11:59            0   \n",
       "8           8        1       594       4  2000-12-31 22:37:48            0   \n",
       "9           9        1       919       4  2000-12-31 22:22:48            0   \n",
       "\n",
       "   movie_emb_id       date  \n",
       "0          1192  2000-12-3  \n",
       "1           660  2000-12-3  \n",
       "2           913  2000-12-3  \n",
       "3          3407  2000-12-3  \n",
       "4          2354  2001-01-0  \n",
       "5          1196  2000-12-3  \n",
       "6          1286  2000-12-3  \n",
       "7          2803  2000-12-3  \n",
       "8           593  2000-12-3  \n",
       "9           918  2000-12-3  "
      ]
     },
     "execution_count": 55,
     "metadata": {},
     "output_type": "execute_result"
    }
   ],
   "source": [
    "ratings_date.head(10)"
   ]
  },
  {
   "cell_type": "code",
   "execution_count": 58,
   "id": "1bc2177b",
   "metadata": {},
   "outputs": [
    {
     "data": {
      "text/html": [
       "<div>\n",
       "<style scoped>\n",
       "    .dataframe tbody tr th:only-of-type {\n",
       "        vertical-align: middle;\n",
       "    }\n",
       "\n",
       "    .dataframe tbody tr th {\n",
       "        vertical-align: top;\n",
       "    }\n",
       "\n",
       "    .dataframe thead th {\n",
       "        text-align: right;\n",
       "    }\n",
       "</style>\n",
       "<table border=\"1\" class=\"dataframe\">\n",
       "  <thead>\n",
       "    <tr style=\"text-align: right;\">\n",
       "      <th></th>\n",
       "      <th>count(*)</th>\n",
       "      <th>count(distinct user_id || movie_id || date)</th>\n",
       "      <th>count(distinct user_id)</th>\n",
       "      <th>count(distinct movie_id)</th>\n",
       "      <th>count(distinct date)</th>\n",
       "    </tr>\n",
       "  </thead>\n",
       "  <tbody>\n",
       "    <tr>\n",
       "      <th>0</th>\n",
       "      <td>1000209</td>\n",
       "      <td>1000184</td>\n",
       "      <td>6040</td>\n",
       "      <td>3706</td>\n",
       "      <td>135</td>\n",
       "    </tr>\n",
       "  </tbody>\n",
       "</table>\n",
       "</div>"
      ],
      "text/plain": [
       "   count(*)  count(distinct user_id || movie_id || date)  \\\n",
       "0   1000209                                      1000184   \n",
       "\n",
       "   count(distinct user_id)  count(distinct movie_id)  count(distinct date)  \n",
       "0                     6040                      3706                   135  "
      ]
     },
     "execution_count": 58,
     "metadata": {},
     "output_type": "execute_result"
    }
   ],
   "source": [
    "sql(f\"\"\"\n",
    "select \n",
    "count(*),\n",
    "count(distinct user_id || movie_id || date),\n",
    "count(distinct user_id),\n",
    "count(distinct movie_id),\n",
    "count(distinct date)\n",
    "from ratings_date\n",
    "\"\"\")"
   ]
  },
  {
   "cell_type": "markdown",
   "id": "6f5eb51c",
   "metadata": {},
   "source": [
    "# save to parquet"
   ]
  },
  {
   "cell_type": "code",
   "execution_count": 64,
   "id": "879c9881",
   "metadata": {},
   "outputs": [],
   "source": [
    "ratings_date.to_parquet(\n",
    "    os.path.join(\n",
    "        data_path,\n",
    "        ratings_with_date,\n",
    "    )\n",
    "    )"
   ]
  },
  {
   "cell_type": "markdown",
   "id": "b6801a3c",
   "metadata": {},
   "source": [
    "# end"
   ]
  }
 ],
 "metadata": {
  "kernelspec": {
   "display_name": "Python 3 (ipykernel)",
   "language": "python",
   "name": "python3"
  },
  "language_info": {
   "codemirror_mode": {
    "name": "ipython",
    "version": 3
   },
   "file_extension": ".py",
   "mimetype": "text/x-python",
   "name": "python",
   "nbconvert_exporter": "python",
   "pygments_lexer": "ipython3",
   "version": "3.9.13"
  }
 },
 "nbformat": 4,
 "nbformat_minor": 5
}
