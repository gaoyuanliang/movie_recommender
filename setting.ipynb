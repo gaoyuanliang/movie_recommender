{
 "cells": [
  {
   "cell_type": "code",
   "execution_count": null,
   "id": "fd98bfd8",
   "metadata": {},
   "outputs": [],
   "source": [
    "import pandas as pd\n",
    "import os"
   ]
  },
  {
   "cell_type": "code",
   "execution_count": null,
   "id": "95ab6f6d",
   "metadata": {},
   "outputs": [],
   "source": [
    "from pysqldf import SQLDF, load_meat, load_births\n",
    "sqldf = SQLDF(globals())\n",
    "\n",
    "sql = lambda q: sqldf.execute(q)"
   ]
  },
  {
   "cell_type": "markdown",
   "id": "76f16f78",
   "metadata": {},
   "source": [
    "# training and test split"
   ]
  },
  {
   "cell_type": "code",
   "execution_count": null,
   "id": "bcbef6b5",
   "metadata": {},
   "outputs": [],
   "source": [
    "start_date = '2000-04-2'\n",
    "end_date = '2003-02-2'"
   ]
  },
  {
   "cell_type": "markdown",
   "id": "32fceeca",
   "metadata": {},
   "source": [
    "# test_start date"
   ]
  },
  {
   "cell_type": "code",
   "execution_count": 3,
   "id": "eb339dbb",
   "metadata": {},
   "outputs": [],
   "source": [
    "test_start_date = '2003-01-01'"
   ]
  },
  {
   "cell_type": "code",
   "execution_count": null,
   "id": "dcadedbe",
   "metadata": {},
   "outputs": [],
   "source": []
  },
  {
   "cell_type": "code",
   "execution_count": null,
   "id": "ceb6d81c",
   "metadata": {},
   "outputs": [],
   "source": []
  },
  {
   "cell_type": "code",
   "execution_count": null,
   "id": "06a8b7a4",
   "metadata": {},
   "outputs": [],
   "source": []
  }
 ],
 "metadata": {
  "kernelspec": {
   "display_name": "Python 3 (ipykernel)",
   "language": "python",
   "name": "python3"
  },
  "language_info": {
   "codemirror_mode": {
    "name": "ipython",
    "version": 3
   },
   "file_extension": ".py",
   "mimetype": "text/x-python",
   "name": "python",
   "nbconvert_exporter": "python",
   "pygments_lexer": "ipython3",
   "version": "3.9.13"
  }
 },
 "nbformat": 4,
 "nbformat_minor": 5
}
